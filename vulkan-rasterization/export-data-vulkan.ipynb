{
 "cells": [
  {
   "cell_type": "code",
   "execution_count": 5,
   "metadata": {},
   "outputs": [],
   "source": [
    "import matplotlib.pyplot as plt\n",
    "import torch\n",
    "import numpy as np\n",
    "import struct\n",
    "\n",
    "from render import initialize_scene\n",
    "from gaussian_splatting import GaussianScene\n",
    "from utils import in_view_frustum"
   ]
  },
  {
   "cell_type": "code",
   "execution_count": 6,
   "metadata": {},
   "outputs": [],
   "source": [
    "def export_culled_gaussians(scene: GaussianScene, filename: str, image_num: int):\n",
    "\n",
    "    image = scene.images[image_num]  \n",
    "\n",
    "    # Compute visibility mask\n",
    "    in_view = in_view_frustum(\n",
    "        points=scene.gaussians.points,\n",
    "        view_matrix=image.world_view_transform\n",
    "    )\n",
    "\n",
    "    # Extract only culled Gaussians (inside frustum)\n",
    "    points = scene.gaussians.points[in_view]\n",
    "    covariance_3d = scene.gaussians.get_3d_covariance_matrix()[in_view]\n",
    "    colors = scene.gaussians.colors[in_view]\n",
    "    opacities = torch.sigmoid(scene.gaussians.opacity[in_view])  \n",
    "\n",
    "    # Convert to camera space and extract depth values \n",
    "    points_homogeneous = torch.cat([points, torch.ones(points.shape[0], 1)], dim=1)\n",
    "    points_camera = (points_homogeneous @ image.world_view_transform)[:, :3]  \n",
    "    depths = points_camera[:, 2]  \n",
    "\n",
    "    # Sort Gaussians by depth (back to front for alpha blending)\n",
    "    sorted_indices = torch.argsort(depths, descending=True)\n",
    "\n",
    "    points = points[sorted_indices].cpu().detach().numpy()\n",
    "    covariance_3d = covariance_3d[sorted_indices].cpu().detach().numpy()\n",
    "    colors = colors[sorted_indices].cpu().detach().numpy()\n",
    "    opacities = opacities[sorted_indices].cpu().detach().numpy()\n",
    "\n",
    "    with open(filename, 'wb') as f:\n",
    "        for i in range(len(points)):\n",
    "            # Gaussian position (3D)\n",
    "            x, y, z = points[i]\n",
    "\n",
    "            # Gaussian color (RGB)\n",
    "            r, g, b = colors[i]\n",
    "\n",
    "            # Gaussian covariance (3x3 matrix flattened)\n",
    "            covariance = covariance_3d[i].flatten()\n",
    "\n",
    "            # Gaussian opacity\n",
    "            opacity = opacities[i]\n",
    "\n",
    "            # Write to binary file\n",
    "            f.write(struct.pack('fff', x, y, z))  \n",
    "            f.write(struct.pack('fff', r, g, b))   \n",
    "            f.write(struct.pack('fffffffff', *covariance))  \n",
    "            f.write(struct.pack('f', opacity))   \n",
    "\n",
    "    print(f\"Saved {len(points)} culled Gaussians to {filename}\")\n"
   ]
  },
  {
   "cell_type": "code",
   "execution_count": 12,
   "metadata": {},
   "outputs": [],
   "source": [
    "def export_camera(scene: GaussianScene, filename: str, image_num: int):\n",
    "\n",
    "    image = scene.images[image_num]  \n",
    "\n",
    "    view_matrix = image.world_view_transform.cpu().numpy()\n",
    "    projection_matrix = image.projection_matrix.cpu().numpy()\n",
    "\n",
    "    width, height = int(image.width.item()), int(image.height.item())\n",
    "\n",
    "    with open(filename, 'wb') as f:\n",
    "        f.write(view_matrix.tobytes())   \n",
    "        f.write(projection_matrix.tobytes())   \n",
    "        f.write(struct.pack('ii', width, height))  \n",
    "\n",
    "    print(f\"Saved camera data to {filename}\")\n"
   ]
  },
  {
   "cell_type": "code",
   "execution_count": 13,
   "metadata": {},
   "outputs": [],
   "source": [
    "colmap_path = \"../data/360-extra/treehill/sparse/0\"\n",
    "image_num = 100  # Index of the image to render\n",
    "\n",
    "# Initialize scene\n",
    "scene = initialize_scene(colmap_path)"
   ]
  },
  {
   "cell_type": "code",
   "execution_count": 14,
   "metadata": {},
   "outputs": [
    {
     "name": "stderr",
     "output_type": "stream",
     "text": [
      "/tmp/ipykernel_232808/2431262533.py:48: DeprecationWarning: Conversion of an array with ndim > 0 to a scalar is deprecated, and will error in future. Ensure you extract a single element from your array before performing this operation. (Deprecated NumPy 1.25.)\n",
      "  f.write(struct.pack('f', opacity))\n"
     ]
    },
    {
     "name": "stdout",
     "output_type": "stream",
     "text": [
      "Saved 46050 culled Gaussians to ./assets/sorted_culled_gaussians.bin\n"
     ]
    }
   ],
   "source": [
    "export_culled_gaussians(scene=scene, filename='./assets/sorted_culled_gaussians.bin', image_num=image_num)"
   ]
  },
  {
   "cell_type": "code",
   "execution_count": 15,
   "metadata": {},
   "outputs": [
    {
     "name": "stdout",
     "output_type": "stream",
     "text": [
      "Saved camera data to ./assets/camera.bin\n"
     ]
    }
   ],
   "source": [
    "export_camera(scene, \"./assets/camera.bin\", image_num=image_num)\n"
   ]
  }
 ],
 "metadata": {
  "kernelspec": {
   "display_name": ".venv",
   "language": "python",
   "name": "python3"
  },
  "language_info": {
   "codemirror_mode": {
    "name": "ipython",
    "version": 3
   },
   "file_extension": ".py",
   "mimetype": "text/x-python",
   "name": "python",
   "nbconvert_exporter": "python",
   "pygments_lexer": "ipython3",
   "version": "3.9.18"
  }
 },
 "nbformat": 4,
 "nbformat_minor": 2
}
